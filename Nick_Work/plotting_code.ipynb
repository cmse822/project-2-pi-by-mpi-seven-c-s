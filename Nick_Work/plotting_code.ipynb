{
 "cells": [
  {
   "cell_type": "code",
   "execution_count": 1,
   "metadata": {},
   "outputs": [
    {
     "name": "stderr",
     "output_type": "stream",
     "text": [
      "Matplotlib is building the font cache; this may take a moment.\n"
     ]
    }
   ],
   "source": [
    "import numpy as np \n",
    "import matplotlib.pyplot as plt"
   ]
  },
  {
   "cell_type": "code",
   "execution_count": 3,
   "metadata": {},
   "outputs": [
    {
     "data": {
      "text/plain": [
       "array([[5.6000000e-05, 3.0880000e+00, 1.0000000e+00, 1.0000000e+03],\n",
       "       [3.3000000e-05, 3.2080000e+00, 2.0000000e+00, 1.0000000e+03],\n",
       "       [2.1000000e-05, 3.1750000e+00, 4.0000000e+00, 1.0000000e+03],\n",
       "       [1.7000000e-05, 3.0800000e+00, 8.0000000e+00, 1.0000000e+03],\n",
       "       [1.3000000e-05,           nan, 1.6000000e+01, 1.0000000e+03],\n",
       "       [1.3000000e-05,           nan, 3.2000000e+01, 1.0000000e+03],\n",
       "       [9.5000000e-05,           nan, 6.4000000e+01, 1.0000000e+03],\n",
       "       [4.2742000e-02, 3.1428720e+00, 1.0000000e+00, 1.0000000e+06],\n",
       "       [2.1183000e-02, 3.1413440e+00, 2.0000000e+00, 1.0000000e+06],\n",
       "       [1.0863000e-02, 3.1427440e+00, 4.0000000e+00, 1.0000000e+06],\n",
       "       [5.2880000e-03, 3.1408440e+00, 8.0000000e+00, 1.0000000e+06],\n",
       "       [2.6490000e-03, 3.1431000e+00, 1.6000000e+01, 1.0000000e+06],\n",
       "       [1.3380000e-03, 3.1433730e+00, 3.2000000e+01, 1.0000000e+06],\n",
       "       [6.7700000e-04, 3.1437540e+00, 6.4000000e+01, 1.0000000e+06],\n",
       "       [4.2258891e+01, 3.1415760e+00, 1.0000000e+00, 1.0000000e+09],\n",
       "       [2.1146493e+01, 3.1415550e+00, 2.0000000e+00, 1.0000000e+09],\n",
       "       [1.0559266e+01, 3.1416320e+00, 4.0000000e+00, 1.0000000e+09],\n",
       "       [5.2551710e+00, 3.1415810e+00, 8.0000000e+00, 1.0000000e+09],\n",
       "       [2.6421430e+00, 3.1416690e+00, 1.6000000e+01, 1.0000000e+09],\n",
       "       [1.3210260e+00, 3.1415820e+00, 3.2000000e+01, 1.0000000e+09],\n",
       "       [6.6283300e-01, 3.1415520e+00, 6.4000000e+01, 1.0000000e+09]])"
      ]
     },
     "execution_count": 3,
     "metadata": {},
     "output_type": "execute_result"
    }
   ],
   "source": [
    "data = np.loadtxt('output/data_final.txt',delimiter=',')\n",
    "data"
   ]
  },
  {
   "cell_type": "code",
   "execution_count": null,
   "metadata": {},
   "outputs": [],
   "source": []
  }
 ],
 "metadata": {
  "kernelspec": {
   "display_name": "Python 3",
   "language": "python",
   "name": "python3"
  },
  "language_info": {
   "codemirror_mode": {
    "name": "ipython",
    "version": 3
   },
   "file_extension": ".py",
   "mimetype": "text/x-python",
   "name": "python",
   "nbconvert_exporter": "python",
   "pygments_lexer": "ipython3",
   "version": "3.6.4"
  },
  "orig_nbformat": 4
 },
 "nbformat": 4,
 "nbformat_minor": 2
}
